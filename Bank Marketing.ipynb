{
 "cells": [
  {
   "cell_type": "markdown",
   "id": "c36b0aa9",
   "metadata": {},
   "source": [
    "# Load Libraries"
   ]
  },
  {
   "cell_type": "code",
   "execution_count": null,
   "id": "78fb3718",
   "metadata": {},
   "outputs": [],
   "source": [
    "%load_ext autotime\n",
    "\n",
    "import pandas as pd \n",
    "import numpy as np\n",
    "import os\n",
    "\n",
    "import matplotlib.pyplot as plt \n",
    "import seaborn as sns \n",
    "import plotly\n",
    "import plotly.express as px \n",
    "import plotly.graph_objects as go \n",
    "from plotly.subplots import make_subplots"
   ]
  },
  {
   "cell_type": "markdown",
   "id": "c4b4f0ab",
   "metadata": {},
   "source": [
    "# Load Dataset"
   ]
  },
  {
   "cell_type": "code",
   "execution_count": null,
   "id": "ba548067",
   "metadata": {},
   "outputs": [],
   "source": [
    "path_dir = r'bank marketing/dataset'\n",
    "\n",
    "bank = 'bank-additional-full.csv'\n",
    "\n",
    "df_bank = pd.read_csv(os.path.join(path_dir,bank), sep=';', quotechar='\"')"
   ]
  },
  {
   "cell_type": "markdown",
   "id": "6bd51594",
   "metadata": {},
   "source": [
    "# Metadata"
   ]
  },
  {
   "cell_type": "markdown",
   "id": "873cc790",
   "metadata": {},
   "source": [
    "| No. | Variable | Description | Type |\n",
    "| :--- | :-------- | :----------- | :---- |\n",
    "| 1   | age      | Age of the client | numeric |\n",
    "| 2   | job      | Type of job | categorical: \"admin.\",\"blue-collar\",\"entrepreneur\",\"housemaid\",\"management\",\"retired\",\"self-employed\",\"services\",\"student\",\"technician\",\"unemployed\",\"unknown\" |\n",
    "| 3   | marital  | Marital status | categorical: \"divorced\",\"married\",\"single\",\"unknown\"; note: \"divorced\" means divorced or widowed |\n",
    "| 4   | education | Education level | categorical: \"basic.4y\",\"basic.6y\",\"basic.9y\",\"high.school\",\"illiterate\",\"professional.course\",\"university.degree\",\"unknown\" |\n",
    "| 5   | default  | Has credit in default? | categorical: \"no\",\"yes\",\"unknown\" |\n",
    "| 6   | housing  | Has housing loan? | categorical: \"no\",\"yes\",\"unknown\" |\n",
    "| 7   | loan     | Has personal loan? | categorical: \"no\",\"yes\",\"unknown\" |\n",
    "| 8   | contact  | Contact communication type | categorical: \"cellular\",\"telephone\" |\n",
    "| 9   | month    | Last contact month of year | categorical: \"jan\", \"feb\", \"mar\", ..., \"nov\", \"dec\" |\n",
    "| 10  | day_of_week | Last contact day of the week | categorical: \"mon\",\"tue\",\"wed\",\"thu\",\"fri\" |\n",
    "| 11  | duration | Last contact duration, in seconds | numeric |\n",
    "| 12  | campaign | Number of contacts performed during this campaign and for this client | numeric, includes last contact |\n",
    "| 13  | pdays    | Number of days that passed by after the client was last contacted from a previous campaign | numeric; 999 means client was not previously contacted |\n",
    "| 14  | previous | Number of contacts performed before this campaign and for this client | numeric |\n",
    "| 15  | poutcome | Outcome of the previous marketing campaign | categorical: \"failure\",\"nonexistent\",\"success\" |\n",
    "| 16  | emp.var.rate | Employment variation rate - quarterly indicator | numeric |\n",
    "| 17  | cons.price.idx | Consumer price index - monthly indicator | numeric |\n",
    "| 18  | cons.conf.idx | Consumer confidence index - monthly indicator | numeric |\n",
    "| 19  | euribor3m | Euribor 3 month rate - daily indicator | numeric |\n",
    "| 20  | nr.employed | Number of employees - quarterly indicator | numeric |\n",
    "| 21  | y        | Has the client subscribed a term deposit? | binary: \"yes\",\"no\" |\n"
   ]
  },
  {
   "cell_type": "markdown",
   "id": "8f49d39e",
   "metadata": {},
   "source": [
    "# Explore Dataset"
   ]
  },
  {
   "cell_type": "code",
   "execution_count": null,
   "id": "39196292",
   "metadata": {},
   "outputs": [],
   "source": [
    "print(df_bank.info(),'\\n')\n",
    "print(df_bank.shape,'\\n')\n",
    "print(df_bank.columns,'\\n')\n",
    "print(df_bank.describe())"
   ]
  },
  {
   "cell_type": "markdown",
   "id": "424a6eb0",
   "metadata": {},
   "source": [
    "# Bar/Historgram Plot"
   ]
  },
  {
   "cell_type": "code",
   "execution_count": null,
   "id": "fbd08a23",
   "metadata": {
    "scrolled": true
   },
   "outputs": [],
   "source": [
    "boxplot_col = ['age','duration','campaign']\n",
    "his_col = ['pdays','previous','emp.var.rate','cons.price.idx','cons.conf.idx','euribor3m','nr.employed']\n",
    "\n",
    "for col in df_bank.columns: \n",
    "    if col not in boxplot_col:\n",
    "        if df_bank[col].dtype == 'object':\n",
    "            fig_bar = px.bar(df_bank[col].value_counts(), \n",
    "                             x=df_bank[col].value_counts().index, y=df_bank[col].value_counts().values)\n",
    "            fig_bar.update_layout(title=col)\n",
    "            fig_bar.show()\n",
    "\n",
    "        elif col in his_col: \n",
    "            fig_his = px.histogram(df_bank, x=df_bank['month'], y=col)\n",
    "            fig_his.update_layout(title=col)\n",
    "            fig_his.show()"
   ]
  },
  {
   "cell_type": "markdown",
   "id": "36c3e0e9",
   "metadata": {},
   "source": [
    "# Boxplot"
   ]
  },
  {
   "cell_type": "code",
   "execution_count": null,
   "id": "22828c4b",
   "metadata": {
    "scrolled": true
   },
   "outputs": [],
   "source": [
    "for col in df_bank.columns:\n",
    "    if df_bank[col].dtype == 'int64' or df_bank[col].dtype == 'float64':\n",
    "        fig_box = px.box(df_bank, x=col, y='y')\n",
    "        fig_box.update_layout(title=col)\n",
    "        fig_box.show()"
   ]
  },
  {
   "cell_type": "markdown",
   "id": "54ddc97c",
   "metadata": {},
   "source": [
    "# Correlation Plot"
   ]
  },
  {
   "cell_type": "code",
   "execution_count": null,
   "id": "6c9706c2",
   "metadata": {},
   "outputs": [],
   "source": [
    "corr_matrix = df_bank.corr()\n",
    "fig_corr = go.Figure(data=go.Heatmap(z=corr_matrix.values, x=corr_matrix.columns, y=corr_matrix.columns, \n",
    "                                     hoverongaps=False, colorscale='RdYlBu'))\n",
    "fig_corr.show()"
   ]
  }
 ],
 "metadata": {
  "kernelspec": {
   "display_name": "Python 3 (ipykernel)",
   "language": "python",
   "name": "python3"
  },
  "language_info": {
   "codemirror_mode": {
    "name": "ipython",
    "version": 3
   },
   "file_extension": ".py",
   "mimetype": "text/x-python",
   "name": "python",
   "nbconvert_exporter": "python",
   "pygments_lexer": "ipython3",
   "version": "3.9.7"
  }
 },
 "nbformat": 4,
 "nbformat_minor": 5
}
